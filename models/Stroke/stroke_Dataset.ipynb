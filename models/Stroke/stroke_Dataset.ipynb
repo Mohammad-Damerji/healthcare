{
  "cells": [
    {
      "cell_type": "markdown",
      "id": "hAEbeeWuXZXy",
      "metadata": {
        "id": "hAEbeeWuXZXy"
      },
      "source": [
        "According to the World Health Organization (WHO) stroke is the 2nd leading cause of death globally, responsible for approximately 11% of total deaths.\n",
        "This dataset is used to predict whether a patient is likely to get stroke based on the input parameters like gender, age, various diseases, and smoking status. Each row in the data provides relavant information about the patient."
      ]
    },
    {
      "cell_type": "markdown",
      "id": "b_EmqMi_xaEb",
      "metadata": {
        "id": "b_EmqMi_xaEb"
      },
      "source": [
        "To use the model, we need the following information from a user (Be careful about uppercase and lowercase letters):\n",
        "* gender ---> ['Male', 'Female', 'Other']\n",
        "* age \t ---> real number\n",
        "* hypertension \t---> ['No', 'Yes']\n",
        "* heart_disease ---> ['No', 'Yes']\n",
        "* Residence_type ---> ['Urban', 'Rural']\n",
        "* avg_glucose_level ---> real number\n",
        "* bmi \t---> real number\n",
        "* smoking_status \t---> ['formerly smoked', 'never smoked', 'smokes', 'Unknown']"
      ]
    },
    {
      "cell_type": "markdown",
      "id": "52f791f2",
      "metadata": {
        "id": "52f791f2",
        "papermill": {
          "duration": 0.013941,
          "end_time": "2023-03-28T14:43:34.586637",
          "exception": false,
          "start_time": "2023-03-28T14:43:34.572696",
          "status": "completed"
        },
        "tags": []
      },
      "source": [
        "# Importing Packages"
      ]
    },
    {
      "cell_type": "code",
      "execution_count": 1,
      "id": "be0a32bf",
      "metadata": {
        "execution": {
          "iopub.execute_input": "2023-03-28T14:43:34.618474Z",
          "iopub.status.busy": "2023-03-28T14:43:34.617125Z",
          "iopub.status.idle": "2023-03-28T14:43:38.297715Z",
          "shell.execute_reply": "2023-03-28T14:43:38.296160Z"
        },
        "id": "be0a32bf",
        "papermill": {
          "duration": 3.699083,
          "end_time": "2023-03-28T14:43:38.301026",
          "exception": false,
          "start_time": "2023-03-28T14:43:34.601943",
          "status": "completed"
        },
        "tags": []
      },
      "outputs": [],
      "source": [
        "import numpy as np \n",
        "import pandas as pd \n",
        "import matplotlib.pyplot as plt\n",
        "plt.style.use('ggplot')\n",
        "import seaborn as sns\n",
        "from sklearn import preprocessing\n",
        "from sklearn.model_selection import train_test_split\n",
        "from sklearn.metrics import confusion_matrix\n",
        "from sklearn.svm import SVC  \n",
        "from sklearn.model_selection import GridSearchCV\n",
        "from sklearn.metrics import accuracy_score\n",
        "import warnings\n",
        "warnings.filterwarnings('ignore')"
      ]
    },
    {
      "cell_type": "markdown",
      "id": "974a2519",
      "metadata": {
        "id": "974a2519",
        "papermill": {
          "duration": 0.013404,
          "end_time": "2023-03-28T14:43:38.328251",
          "exception": false,
          "start_time": "2023-03-28T14:43:38.314847",
          "status": "completed"
        },
        "tags": []
      },
      "source": [
        "# Load & Read Data"
      ]
    },
    {
      "cell_type": "code",
      "execution_count": 2,
      "id": "03b48059",
      "metadata": {
        "colab": {
          "base_uri": "https://localhost:8080/"
        },
        "execution": {
          "iopub.execute_input": "2023-03-28T14:43:38.359314Z",
          "iopub.status.busy": "2023-03-28T14:43:38.358834Z",
          "iopub.status.idle": "2023-03-28T14:43:38.396171Z",
          "shell.execute_reply": "2023-03-28T14:43:38.395101Z"
        },
        "id": "03b48059",
        "outputId": "b5de6e5d-6a79-4a80-e53e-2072369f1e86",
        "papermill": {
          "duration": 0.056931,
          "end_time": "2023-03-28T14:43:38.399455",
          "exception": false,
          "start_time": "2023-03-28T14:43:38.342524",
          "status": "completed"
        },
        "tags": []
      },
      "outputs": [
        {
          "name": "stdout",
          "output_type": "stream",
          "text": [
            "Stroke dataset has 5110 objects with 12 features.\n"
          ]
        }
      ],
      "source": [
        "data = pd.read_csv(\"healthcare-dataset-stroke-data.csv\")\n",
        "print(\"Stroke dataset has {} objects with {} features.\".format(*data.shape))"
      ]
    },
    {
      "cell_type": "code",
      "execution_count": 3,
      "id": "8c58e49f",
      "metadata": {
        "colab": {
          "base_uri": "https://localhost:8080/",
          "height": 206
        },
        "execution": {
          "iopub.execute_input": "2023-03-28T14:43:38.432122Z",
          "iopub.status.busy": "2023-03-28T14:43:38.431459Z",
          "iopub.status.idle": "2023-03-28T14:43:38.477031Z",
          "shell.execute_reply": "2023-03-28T14:43:38.475547Z"
        },
        "id": "8c58e49f",
        "outputId": "1029eb26-f174-4ae6-c3b6-32b1e4d1062b",
        "papermill": {
          "duration": 0.064857,
          "end_time": "2023-03-28T14:43:38.479990",
          "exception": false,
          "start_time": "2023-03-28T14:43:38.415133",
          "status": "completed"
        },
        "tags": []
      },
      "outputs": [
        {
          "data": {
            "text/html": [
              "<div>\n",
              "<style scoped>\n",
              "    .dataframe tbody tr th:only-of-type {\n",
              "        vertical-align: middle;\n",
              "    }\n",
              "\n",
              "    .dataframe tbody tr th {\n",
              "        vertical-align: top;\n",
              "    }\n",
              "\n",
              "    .dataframe thead th {\n",
              "        text-align: right;\n",
              "    }\n",
              "</style>\n",
              "<table border=\"1\" class=\"dataframe\">\n",
              "  <thead>\n",
              "    <tr style=\"text-align: right;\">\n",
              "      <th></th>\n",
              "      <th>id</th>\n",
              "      <th>gender</th>\n",
              "      <th>age</th>\n",
              "      <th>hypertension</th>\n",
              "      <th>heart_disease</th>\n",
              "      <th>ever_married</th>\n",
              "      <th>work_type</th>\n",
              "      <th>Residence_type</th>\n",
              "      <th>avg_glucose_level</th>\n",
              "      <th>bmi</th>\n",
              "      <th>smoking_status</th>\n",
              "      <th>stroke</th>\n",
              "    </tr>\n",
              "  </thead>\n",
              "  <tbody>\n",
              "    <tr>\n",
              "      <th>0</th>\n",
              "      <td>9046</td>\n",
              "      <td>Male</td>\n",
              "      <td>67.0</td>\n",
              "      <td>0</td>\n",
              "      <td>1</td>\n",
              "      <td>Yes</td>\n",
              "      <td>Private</td>\n",
              "      <td>Urban</td>\n",
              "      <td>228.69</td>\n",
              "      <td>36.6</td>\n",
              "      <td>formerly smoked</td>\n",
              "      <td>1</td>\n",
              "    </tr>\n",
              "    <tr>\n",
              "      <th>1</th>\n",
              "      <td>51676</td>\n",
              "      <td>Female</td>\n",
              "      <td>61.0</td>\n",
              "      <td>0</td>\n",
              "      <td>0</td>\n",
              "      <td>Yes</td>\n",
              "      <td>Self-employed</td>\n",
              "      <td>Rural</td>\n",
              "      <td>202.21</td>\n",
              "      <td>NaN</td>\n",
              "      <td>never smoked</td>\n",
              "      <td>1</td>\n",
              "    </tr>\n",
              "    <tr>\n",
              "      <th>2</th>\n",
              "      <td>31112</td>\n",
              "      <td>Male</td>\n",
              "      <td>80.0</td>\n",
              "      <td>0</td>\n",
              "      <td>1</td>\n",
              "      <td>Yes</td>\n",
              "      <td>Private</td>\n",
              "      <td>Rural</td>\n",
              "      <td>105.92</td>\n",
              "      <td>32.5</td>\n",
              "      <td>never smoked</td>\n",
              "      <td>1</td>\n",
              "    </tr>\n",
              "    <tr>\n",
              "      <th>3</th>\n",
              "      <td>60182</td>\n",
              "      <td>Female</td>\n",
              "      <td>49.0</td>\n",
              "      <td>0</td>\n",
              "      <td>0</td>\n",
              "      <td>Yes</td>\n",
              "      <td>Private</td>\n",
              "      <td>Urban</td>\n",
              "      <td>171.23</td>\n",
              "      <td>34.4</td>\n",
              "      <td>smokes</td>\n",
              "      <td>1</td>\n",
              "    </tr>\n",
              "    <tr>\n",
              "      <th>4</th>\n",
              "      <td>1665</td>\n",
              "      <td>Female</td>\n",
              "      <td>79.0</td>\n",
              "      <td>1</td>\n",
              "      <td>0</td>\n",
              "      <td>Yes</td>\n",
              "      <td>Self-employed</td>\n",
              "      <td>Rural</td>\n",
              "      <td>174.12</td>\n",
              "      <td>24.0</td>\n",
              "      <td>never smoked</td>\n",
              "      <td>1</td>\n",
              "    </tr>\n",
              "  </tbody>\n",
              "</table>\n",
              "</div>"
            ],
            "text/plain": [
              "      id  gender   age  hypertension  heart_disease ever_married  \\\n",
              "0   9046    Male  67.0             0              1          Yes   \n",
              "1  51676  Female  61.0             0              0          Yes   \n",
              "2  31112    Male  80.0             0              1          Yes   \n",
              "3  60182  Female  49.0             0              0          Yes   \n",
              "4   1665  Female  79.0             1              0          Yes   \n",
              "\n",
              "       work_type Residence_type  avg_glucose_level   bmi   smoking_status  \\\n",
              "0        Private          Urban             228.69  36.6  formerly smoked   \n",
              "1  Self-employed          Rural             202.21   NaN     never smoked   \n",
              "2        Private          Rural             105.92  32.5     never smoked   \n",
              "3        Private          Urban             171.23  34.4           smokes   \n",
              "4  Self-employed          Rural             174.12  24.0     never smoked   \n",
              "\n",
              "   stroke  \n",
              "0       1  \n",
              "1       1  \n",
              "2       1  \n",
              "3       1  \n",
              "4       1  "
            ]
          },
          "execution_count": 3,
          "metadata": {},
          "output_type": "execute_result"
        }
      ],
      "source": [
        "data.head()"
      ]
    },
    {
      "cell_type": "code",
      "execution_count": 4,
      "id": "pl1Kl1CRuKdC",
      "metadata": {
        "id": "pl1Kl1CRuKdC"
      },
      "outputs": [],
      "source": [
        "data['hypertension'].replace(to_replace=[0, 1], value=['No', 'Yes'], inplace=True)\n",
        "data['heart_disease'].replace(to_replace=[0, 1], value=['No', 'Yes'], inplace=True)"
      ]
    },
    {
      "cell_type": "code",
      "execution_count": 5,
      "id": "NmSAOXnvv35h",
      "metadata": {
        "colab": {
          "base_uri": "https://localhost:8080/",
          "height": 206
        },
        "id": "NmSAOXnvv35h",
        "outputId": "cdec7ce7-ba1c-4412-84c7-4a9c472fe50b"
      },
      "outputs": [
        {
          "data": {
            "text/html": [
              "<div>\n",
              "<style scoped>\n",
              "    .dataframe tbody tr th:only-of-type {\n",
              "        vertical-align: middle;\n",
              "    }\n",
              "\n",
              "    .dataframe tbody tr th {\n",
              "        vertical-align: top;\n",
              "    }\n",
              "\n",
              "    .dataframe thead th {\n",
              "        text-align: right;\n",
              "    }\n",
              "</style>\n",
              "<table border=\"1\" class=\"dataframe\">\n",
              "  <thead>\n",
              "    <tr style=\"text-align: right;\">\n",
              "      <th></th>\n",
              "      <th>id</th>\n",
              "      <th>gender</th>\n",
              "      <th>age</th>\n",
              "      <th>hypertension</th>\n",
              "      <th>heart_disease</th>\n",
              "      <th>ever_married</th>\n",
              "      <th>work_type</th>\n",
              "      <th>Residence_type</th>\n",
              "      <th>avg_glucose_level</th>\n",
              "      <th>bmi</th>\n",
              "      <th>smoking_status</th>\n",
              "      <th>stroke</th>\n",
              "    </tr>\n",
              "  </thead>\n",
              "  <tbody>\n",
              "    <tr>\n",
              "      <th>0</th>\n",
              "      <td>9046</td>\n",
              "      <td>Male</td>\n",
              "      <td>67.0</td>\n",
              "      <td>No</td>\n",
              "      <td>Yes</td>\n",
              "      <td>Yes</td>\n",
              "      <td>Private</td>\n",
              "      <td>Urban</td>\n",
              "      <td>228.69</td>\n",
              "      <td>36.6</td>\n",
              "      <td>formerly smoked</td>\n",
              "      <td>1</td>\n",
              "    </tr>\n",
              "    <tr>\n",
              "      <th>1</th>\n",
              "      <td>51676</td>\n",
              "      <td>Female</td>\n",
              "      <td>61.0</td>\n",
              "      <td>No</td>\n",
              "      <td>No</td>\n",
              "      <td>Yes</td>\n",
              "      <td>Self-employed</td>\n",
              "      <td>Rural</td>\n",
              "      <td>202.21</td>\n",
              "      <td>NaN</td>\n",
              "      <td>never smoked</td>\n",
              "      <td>1</td>\n",
              "    </tr>\n",
              "    <tr>\n",
              "      <th>2</th>\n",
              "      <td>31112</td>\n",
              "      <td>Male</td>\n",
              "      <td>80.0</td>\n",
              "      <td>No</td>\n",
              "      <td>Yes</td>\n",
              "      <td>Yes</td>\n",
              "      <td>Private</td>\n",
              "      <td>Rural</td>\n",
              "      <td>105.92</td>\n",
              "      <td>32.5</td>\n",
              "      <td>never smoked</td>\n",
              "      <td>1</td>\n",
              "    </tr>\n",
              "    <tr>\n",
              "      <th>3</th>\n",
              "      <td>60182</td>\n",
              "      <td>Female</td>\n",
              "      <td>49.0</td>\n",
              "      <td>No</td>\n",
              "      <td>No</td>\n",
              "      <td>Yes</td>\n",
              "      <td>Private</td>\n",
              "      <td>Urban</td>\n",
              "      <td>171.23</td>\n",
              "      <td>34.4</td>\n",
              "      <td>smokes</td>\n",
              "      <td>1</td>\n",
              "    </tr>\n",
              "    <tr>\n",
              "      <th>4</th>\n",
              "      <td>1665</td>\n",
              "      <td>Female</td>\n",
              "      <td>79.0</td>\n",
              "      <td>Yes</td>\n",
              "      <td>No</td>\n",
              "      <td>Yes</td>\n",
              "      <td>Self-employed</td>\n",
              "      <td>Rural</td>\n",
              "      <td>174.12</td>\n",
              "      <td>24.0</td>\n",
              "      <td>never smoked</td>\n",
              "      <td>1</td>\n",
              "    </tr>\n",
              "  </tbody>\n",
              "</table>\n",
              "</div>"
            ],
            "text/plain": [
              "      id  gender   age hypertension heart_disease ever_married      work_type  \\\n",
              "0   9046    Male  67.0           No           Yes          Yes        Private   \n",
              "1  51676  Female  61.0           No            No          Yes  Self-employed   \n",
              "2  31112    Male  80.0           No           Yes          Yes        Private   \n",
              "3  60182  Female  49.0           No            No          Yes        Private   \n",
              "4   1665  Female  79.0          Yes            No          Yes  Self-employed   \n",
              "\n",
              "  Residence_type  avg_glucose_level   bmi   smoking_status  stroke  \n",
              "0          Urban             228.69  36.6  formerly smoked       1  \n",
              "1          Rural             202.21   NaN     never smoked       1  \n",
              "2          Rural             105.92  32.5     never smoked       1  \n",
              "3          Urban             171.23  34.4           smokes       1  \n",
              "4          Rural             174.12  24.0     never smoked       1  "
            ]
          },
          "execution_count": 5,
          "metadata": {},
          "output_type": "execute_result"
        }
      ],
      "source": [
        "data.head()"
      ]
    },
    {
      "cell_type": "code",
      "execution_count": 6,
      "id": "objs8f29r4Fp",
      "metadata": {
        "colab": {
          "base_uri": "https://localhost:8080/"
        },
        "id": "objs8f29r4Fp",
        "outputId": "a09e7e1a-8f1d-487d-ca6e-9c2b93626cc6"
      },
      "outputs": [
        {
          "name": "stdout",
          "output_type": "stream",
          "text": [
            "gender ['Male' 'Female' 'Other']\n",
            "hypertension ['No' 'Yes']\n",
            "heart_disease ['Yes' 'No']\n",
            "ever_married ['Yes' 'No']\n",
            "work_type ['Private' 'Self-employed' 'Govt_job' 'children' 'Never_worked']\n",
            "Residence_type ['Urban' 'Rural']\n",
            "smoking_status ['formerly smoked' 'never smoked' 'smokes' 'Unknown']\n"
          ]
        }
      ],
      "source": [
        "for col in data.columns:\n",
        "  if col not in ['id','age','bmi','avg_glucose_level','stroke']:\n",
        "    print(col, data[col].unique())"
      ]
    },
    {
      "cell_type": "code",
      "execution_count": 7,
      "id": "4cc334e8",
      "metadata": {
        "colab": {
          "base_uri": "https://localhost:8080/"
        },
        "execution": {
          "iopub.execute_input": "2023-03-28T14:43:38.584402Z",
          "iopub.status.busy": "2023-03-28T14:43:38.583936Z",
          "iopub.status.idle": "2023-03-28T14:43:38.597090Z",
          "shell.execute_reply": "2023-03-28T14:43:38.595182Z"
        },
        "id": "4cc334e8",
        "outputId": "3e1610c7-81df-42ac-8357-31c772622810",
        "papermill": {
          "duration": 0.032125,
          "end_time": "2023-03-28T14:43:38.599897",
          "exception": false,
          "start_time": "2023-03-28T14:43:38.567772",
          "status": "completed"
        },
        "tags": []
      },
      "outputs": [
        {
          "data": {
            "text/plain": [
              "id                     0\n",
              "gender                 0\n",
              "age                    0\n",
              "hypertension           0\n",
              "heart_disease          0\n",
              "ever_married           0\n",
              "work_type              0\n",
              "Residence_type         0\n",
              "avg_glucose_level      0\n",
              "bmi                  201\n",
              "smoking_status         0\n",
              "stroke                 0\n",
              "dtype: int64"
            ]
          },
          "execution_count": 7,
          "metadata": {},
          "output_type": "execute_result"
        }
      ],
      "source": [
        "#checking missing values\n",
        "data.isnull().sum()"
      ]
    },
    {
      "cell_type": "code",
      "execution_count": 8,
      "id": "a0a3e664",
      "metadata": {
        "colab": {
          "base_uri": "https://localhost:8080/",
          "height": 480
        },
        "execution": {
          "iopub.execute_input": "2023-03-28T14:43:41.563782Z",
          "iopub.status.busy": "2023-03-28T14:43:41.563344Z",
          "iopub.status.idle": "2023-03-28T14:43:41.859024Z",
          "shell.execute_reply": "2023-03-28T14:43:41.857499Z"
        },
        "id": "a0a3e664",
        "outputId": "4b8923d9-6332-4bcb-8072-91e1676a7b4c",
        "papermill": {
          "duration": 0.319064,
          "end_time": "2023-03-28T14:43:41.862225",
          "exception": false,
          "start_time": "2023-03-28T14:43:41.543161",
          "status": "completed"
        },
        "tags": []
      },
      "outputs": [
        {
          "data": {
            "image/png": "[encoded data removed]",
            "text/plain": [
              "<Figure size 432x288 with 1 Axes>"
            ]
          },
          "metadata": {
            "needs_background": "light"
          },
          "output_type": "display_data"
        }
      ],
      "source": [
        "# Set the seaborn style to \"darkgrid\"\n",
        "sns.set_theme(style=\"darkgrid\")\n",
        "\n",
        "# Create a countplot using seaborn and the 'smoking_status' column in the 'data' dataframe\n",
        "ax = sns.countplot(data=data, x=\"smoking_status\")\n",
        "\n",
        "# Set the x-axis tick labels font size to 10\n",
        "ax.set_xticklabels(ax.get_xticklabels(), fontsize=10)\n",
        "\n",
        "# Set the layout tight and show the plot\n",
        "plt.tight_layout()\n",
        "plt.show()"
      ]
    },
    {
      "cell_type": "code",
      "execution_count": 9,
      "id": "Z9qKVJdAbl5r",
      "metadata": {
        "colab": {
          "base_uri": "https://localhost:8080/",
          "height": 458
        },
        "id": "Z9qKVJdAbl5r",
        "outputId": "e6a96791-d16f-47d3-a92f-1a3c3faf7db4"
      },
      "outputs": [
        {
          "data": {
            "image/png": "[encoded data removed]",
            "text/plain": [
              "<Figure size 432x288 with 1 Axes>"
            ]
          },
          "metadata": {},
          "output_type": "display_data"
        }
      ],
      "source": [
        "sns.set_theme(style=\"darkgrid\")\n",
        "\n",
        "ax = sns.countplot(data=data, x=\"stroke\",hue=\"stroke\")\n",
        "\n",
        "plt.show()"
      ]
    },
    {
      "cell_type": "markdown",
      "id": "693f15d3",
      "metadata": {
        "id": "693f15d3",
        "papermill": {
          "duration": 0.019772,
          "end_time": "2023-03-28T14:43:42.228270",
          "exception": false,
          "start_time": "2023-03-28T14:43:42.208498",
          "status": "completed"
        },
        "tags": []
      },
      "source": [
        "From the above figure, we conclude that the number of people who did not suffere from a stroke is more bigger than who did, this means that the dataset is imbalance. We likely have to use sampling techniques to make the data balanced"
      ]
    },
    {
      "cell_type": "code",
      "execution_count": 10,
      "id": "t7Wn7nWa7gLg",
      "metadata": {
        "colab": {
          "base_uri": "https://localhost:8080/",
          "height": 373
        },
        "id": "t7Wn7nWa7gLg",
        "outputId": "56c787c9-fa5f-4502-aaff-c89287a1c18b"
      },
      "outputs": [
        {
          "data": {
            "image/png": "[encoded data removed]",
            "text/plain": [
              "<Figure size 864x288 with 2 Axes>"
            ]
          },
          "metadata": {},
          "output_type": "display_data"
        }
      ],
      "source": [
        "# Set the figure size and create subplots\n",
        "fig, axes = plt.subplots(nrows=1, ncols=2, figsize=(12, 4))\n",
        "\n",
        "# Plot histogram for avg_glucose_level on the third subplot\n",
        "data.plot(kind=\"hist\", y=\"avg_glucose_level\", bins=100, color=\"orange\", ax=axes[0])\n",
        "\n",
        "# Plot histogram for bmi on the second subplot\n",
        "data.plot(kind=\"hist\", y=\"bmi\", bins=100, color=\"r\", ax=axes[1])\n",
        "\n",
        "# Display the plots\n",
        "plt.show()"
      ]
    },
    {
      "cell_type": "markdown",
      "id": "e5e9487d",
      "metadata": {
        "id": "e5e9487d",
        "papermill": {
          "duration": 0.022426,
          "end_time": "2023-03-28T14:43:44.913775",
          "exception": false,
          "start_time": "2023-03-28T14:43:44.891349",
          "status": "completed"
        },
        "tags": []
      },
      "source": [
        "# Data Preprocessing"
      ]
    },
    {
      "cell_type": "code",
      "execution_count": 11,
      "id": "c7e08e13",
      "metadata": {
        "execution": {
          "iopub.execute_input": "2023-03-28T14:43:44.961611Z",
          "iopub.status.busy": "2023-03-28T14:43:44.960787Z",
          "iopub.status.idle": "2023-03-28T14:43:44.968741Z",
          "shell.execute_reply": "2023-03-28T14:43:44.967352Z"
        },
        "id": "c7e08e13",
        "papermill": {
          "duration": 0.034897,
          "end_time": "2023-03-28T14:43:44.971370",
          "exception": false,
          "start_time": "2023-03-28T14:43:44.936473",
          "status": "completed"
        },
        "tags": []
      },
      "outputs": [],
      "source": [
        "# Calculate the mean of the 'bmi' column in the 'data' dataframe\n",
        "mean_bmi = data['bmi'].mean()\n",
        "\n",
        "# Fill in missing values in the 'bmi' column with the mean value using the 'fillna' method\n",
        "data['bmi'].fillna(value=mean_bmi, inplace=True)"
      ]
    },
    {
      "cell_type": "code",
      "execution_count": 12,
      "id": "844a2fa7",
      "metadata": {
        "colab": {
          "base_uri": "https://localhost:8080/",
          "height": 424
        },
        "execution": {
          "iopub.execute_input": "2023-03-28T14:43:45.346644Z",
          "iopub.status.busy": "2023-03-28T14:43:45.346235Z",
          "iopub.status.idle": "2023-03-28T14:43:45.368399Z",
          "shell.execute_reply": "2023-03-28T14:43:45.367115Z"
        },
        "id": "844a2fa7",
        "outputId": "1bb3fc6a-7ac6-4d62-90c6-7619047bad9e",
        "papermill": {
          "duration": 0.050329,
          "end_time": "2023-03-28T14:43:45.371311",
          "exception": false,
          "start_time": "2023-03-28T14:43:45.320982",
          "status": "completed"
        },
        "tags": []
      },
      "outputs": [
        {
          "data": {
            "text/html": [
              "<div>\n",
              "<style scoped>\n",
              "    .dataframe tbody tr th:only-of-type {\n",
              "        vertical-align: middle;\n",
              "    }\n",
              "\n",
              "    .dataframe tbody tr th {\n",
              "        vertical-align: top;\n",
              "    }\n",
              "\n",
              "    .dataframe thead th {\n",
              "        text-align: right;\n",
              "    }\n",
              "</style>\n",
              "<table border=\"1\" class=\"dataframe\">\n",
              "  <thead>\n",
              "    <tr style=\"text-align: right;\">\n",
              "      <th></th>\n",
              "      <th>gender</th>\n",
              "      <th>age</th>\n",
              "      <th>hypertension</th>\n",
              "      <th>heart_disease</th>\n",
              "      <th>ever_married</th>\n",
              "      <th>work_type</th>\n",
              "      <th>Residence_type</th>\n",
              "      <th>avg_glucose_level</th>\n",
              "      <th>bmi</th>\n",
              "      <th>smoking_status</th>\n",
              "      <th>stroke</th>\n",
              "    </tr>\n",
              "  </thead>\n",
              "  <tbody>\n",
              "    <tr>\n",
              "      <th>0</th>\n",
              "      <td>Male</td>\n",
              "      <td>67.0</td>\n",
              "      <td>No</td>\n",
              "      <td>Yes</td>\n",
              "      <td>Yes</td>\n",
              "      <td>Private</td>\n",
              "      <td>Urban</td>\n",
              "      <td>228.69</td>\n",
              "      <td>36.600000</td>\n",
              "      <td>formerly smoked</td>\n",
              "      <td>1</td>\n",
              "    </tr>\n",
              "    <tr>\n",
              "      <th>1</th>\n",
              "      <td>Female</td>\n",
              "      <td>61.0</td>\n",
              "      <td>No</td>\n",
              "      <td>No</td>\n",
              "      <td>Yes</td>\n",
              "      <td>Self-employed</td>\n",
              "      <td>Rural</td>\n",
              "      <td>202.21</td>\n",
              "      <td>28.893237</td>\n",
              "      <td>never smoked</td>\n",
              "      <td>1</td>\n",
              "    </tr>\n",
              "    <tr>\n",
              "      <th>2</th>\n",
              "      <td>Male</td>\n",
              "      <td>80.0</td>\n",
              "      <td>No</td>\n",
              "      <td>Yes</td>\n",
              "      <td>Yes</td>\n",
              "      <td>Private</td>\n",
              "      <td>Rural</td>\n",
              "      <td>105.92</td>\n",
              "      <td>32.500000</td>\n",
              "      <td>never smoked</td>\n",
              "      <td>1</td>\n",
              "    </tr>\n",
              "    <tr>\n",
              "      <th>3</th>\n",
              "      <td>Female</td>\n",
              "      <td>49.0</td>\n",
              "      <td>No</td>\n",
              "      <td>No</td>\n",
              "      <td>Yes</td>\n",
              "      <td>Private</td>\n",
              "      <td>Urban</td>\n",
              "      <td>171.23</td>\n",
              "      <td>34.400000</td>\n",
              "      <td>smokes</td>\n",
              "      <td>1</td>\n",
              "    </tr>\n",
              "    <tr>\n",
              "      <th>4</th>\n",
              "      <td>Female</td>\n",
              "      <td>79.0</td>\n",
              "      <td>Yes</td>\n",
              "      <td>No</td>\n",
              "      <td>Yes</td>\n",
              "      <td>Self-employed</td>\n",
              "      <td>Rural</td>\n",
              "      <td>174.12</td>\n",
              "      <td>24.000000</td>\n",
              "      <td>never smoked</td>\n",
              "      <td>1</td>\n",
              "    </tr>\n",
              "    <tr>\n",
              "      <th>...</th>\n",
              "      <td>...</td>\n",
              "      <td>...</td>\n",
              "      <td>...</td>\n",
              "      <td>...</td>\n",
              "      <td>...</td>\n",
              "      <td>...</td>\n",
              "      <td>...</td>\n",
              "      <td>...</td>\n",
              "      <td>...</td>\n",
              "      <td>...</td>\n",
              "      <td>...</td>\n",
              "    </tr>\n",
              "    <tr>\n",
              "      <th>5105</th>\n",
              "      <td>Female</td>\n",
              "      <td>80.0</td>\n",
              "      <td>Yes</td>\n",
              "      <td>No</td>\n",
              "      <td>Yes</td>\n",
              "      <td>Private</td>\n",
              "      <td>Urban</td>\n",
              "      <td>83.75</td>\n",
              "      <td>28.893237</td>\n",
              "      <td>never smoked</td>\n",
              "      <td>0</td>\n",
              "    </tr>\n",
              "    <tr>\n",
              "      <th>5106</th>\n",
              "      <td>Female</td>\n",
              "      <td>81.0</td>\n",
              "      <td>No</td>\n",
              "      <td>No</td>\n",
              "      <td>Yes</td>\n",
              "      <td>Self-employed</td>\n",
              "      <td>Urban</td>\n",
              "      <td>125.20</td>\n",
              "      <td>40.000000</td>\n",
              "      <td>never smoked</td>\n",
              "      <td>0</td>\n",
              "    </tr>\n",
              "    <tr>\n",
              "      <th>5107</th>\n",
              "      <td>Female</td>\n",
              "      <td>35.0</td>\n",
              "      <td>No</td>\n",
              "      <td>No</td>\n",
              "      <td>Yes</td>\n",
              "      <td>Self-employed</td>\n",
              "      <td>Rural</td>\n",
              "      <td>82.99</td>\n",
              "      <td>30.600000</td>\n",
              "      <td>never smoked</td>\n",
              "      <td>0</td>\n",
              "    </tr>\n",
              "    <tr>\n",
              "      <th>5108</th>\n",
              "      <td>Male</td>\n",
              "      <td>51.0</td>\n",
              "      <td>No</td>\n",
              "      <td>No</td>\n",
              "      <td>Yes</td>\n",
              "      <td>Private</td>\n",
              "      <td>Rural</td>\n",
              "      <td>166.29</td>\n",
              "      <td>25.600000</td>\n",
              "      <td>formerly smoked</td>\n",
              "      <td>0</td>\n",
              "    </tr>\n",
              "    <tr>\n",
              "      <th>5109</th>\n",
              "      <td>Female</td>\n",
              "      <td>44.0</td>\n",
              "      <td>No</td>\n",
              "      <td>No</td>\n",
              "      <td>Yes</td>\n",
              "      <td>Govt_job</td>\n",
              "      <td>Urban</td>\n",
              "      <td>85.28</td>\n",
              "      <td>26.200000</td>\n",
              "      <td>Unknown</td>\n",
              "      <td>0</td>\n",
              "    </tr>\n",
              "  </tbody>\n",
              "</table>\n",
              "<p>5110 rows × 11 columns</p>\n",
              "</div>"
            ],
            "text/plain": [
              "      gender   age hypertension heart_disease ever_married      work_type  \\\n",
              "0       Male  67.0           No           Yes          Yes        Private   \n",
              "1     Female  61.0           No            No          Yes  Self-employed   \n",
              "2       Male  80.0           No           Yes          Yes        Private   \n",
              "3     Female  49.0           No            No          Yes        Private   \n",
              "4     Female  79.0          Yes            No          Yes  Self-employed   \n",
              "...      ...   ...          ...           ...          ...            ...   \n",
              "5105  Female  80.0          Yes            No          Yes        Private   \n",
              "5106  Female  81.0           No            No          Yes  Self-employed   \n",
              "5107  Female  35.0           No            No          Yes  Self-employed   \n",
              "5108    Male  51.0           No            No          Yes        Private   \n",
              "5109  Female  44.0           No            No          Yes       Govt_job   \n",
              "\n",
              "     Residence_type  avg_glucose_level        bmi   smoking_status  stroke  \n",
              "0             Urban             228.69  36.600000  formerly smoked       1  \n",
              "1             Rural             202.21  28.893237     never smoked       1  \n",
              "2             Rural             105.92  32.500000     never smoked       1  \n",
              "3             Urban             171.23  34.400000           smokes       1  \n",
              "4             Rural             174.12  24.000000     never smoked       1  \n",
              "...             ...                ...        ...              ...     ...  \n",
              "5105          Urban              83.75  28.893237     never smoked       0  \n",
              "5106          Urban             125.20  40.000000     never smoked       0  \n",
              "5107          Rural              82.99  30.600000     never smoked       0  \n",
              "5108          Rural             166.29  25.600000  formerly smoked       0  \n",
              "5109          Urban              85.28  26.200000          Unknown       0  \n",
              "\n",
              "[5110 rows x 11 columns]"
            ]
          },
          "execution_count": 12,
          "metadata": {},
          "output_type": "execute_result"
        }
      ],
      "source": [
        "data.drop('id', axis=1, inplace=True)\n",
        "data"
      ]
    },
    {
      "cell_type": "code",
      "execution_count": 13,
      "id": "4a956f2c",
      "metadata": {
        "colab": {
          "base_uri": "https://localhost:8080/",
          "height": 424
        },
        "execution": {
          "iopub.execute_input": "2023-03-28T14:43:45.079509Z",
          "iopub.status.busy": "2023-03-28T14:43:45.079079Z",
          "iopub.status.idle": "2023-03-28T14:43:45.113055Z",
          "shell.execute_reply": "2023-03-28T14:43:45.111645Z"
        },
        "id": "4a956f2c",
        "outputId": "dd1375da-5d7c-4c6c-bafe-ca58edec47d8",
        "papermill": {
          "duration": 0.060772,
          "end_time": "2023-03-28T14:43:45.115770",
          "exception": false,
          "start_time": "2023-03-28T14:43:45.054998",
          "status": "completed"
        },
        "tags": []
      },
      "outputs": [
        {
          "data": {
            "text/html": [
              "<div>\n",
              "<style scoped>\n",
              "    .dataframe tbody tr th:only-of-type {\n",
              "        vertical-align: middle;\n",
              "    }\n",
              "\n",
              "    .dataframe tbody tr th {\n",
              "        vertical-align: top;\n",
              "    }\n",
              "\n",
              "    .dataframe thead th {\n",
              "        text-align: right;\n",
              "    }\n",
              "</style>\n",
              "<table border=\"1\" class=\"dataframe\">\n",
              "  <thead>\n",
              "    <tr style=\"text-align: right;\">\n",
              "      <th></th>\n",
              "      <th>gender</th>\n",
              "      <th>age</th>\n",
              "      <th>hypertension</th>\n",
              "      <th>heart_disease</th>\n",
              "      <th>ever_married</th>\n",
              "      <th>work_type</th>\n",
              "      <th>Residence_type</th>\n",
              "      <th>avg_glucose_level</th>\n",
              "      <th>bmi</th>\n",
              "      <th>smoking_status</th>\n",
              "      <th>stroke</th>\n",
              "    </tr>\n",
              "  </thead>\n",
              "  <tbody>\n",
              "    <tr>\n",
              "      <th>0</th>\n",
              "      <td>1</td>\n",
              "      <td>67.0</td>\n",
              "      <td>0</td>\n",
              "      <td>1</td>\n",
              "      <td>1</td>\n",
              "      <td>2</td>\n",
              "      <td>1</td>\n",
              "      <td>228.69</td>\n",
              "      <td>36.600000</td>\n",
              "      <td>1</td>\n",
              "      <td>1</td>\n",
              "    </tr>\n",
              "    <tr>\n",
              "      <th>1</th>\n",
              "      <td>0</td>\n",
              "      <td>61.0</td>\n",
              "      <td>0</td>\n",
              "      <td>0</td>\n",
              "      <td>1</td>\n",
              "      <td>3</td>\n",
              "      <td>0</td>\n",
              "      <td>202.21</td>\n",
              "      <td>28.893237</td>\n",
              "      <td>2</td>\n",
              "      <td>1</td>\n",
              "    </tr>\n",
              "    <tr>\n",
              "      <th>2</th>\n",
              "      <td>1</td>\n",
              "      <td>80.0</td>\n",
              "      <td>0</td>\n",
              "      <td>1</td>\n",
              "      <td>1</td>\n",
              "      <td>2</td>\n",
              "      <td>0</td>\n",
              "      <td>105.92</td>\n",
              "      <td>32.500000</td>\n",
              "      <td>2</td>\n",
              "      <td>1</td>\n",
              "    </tr>\n",
              "    <tr>\n",
              "      <th>3</th>\n",
              "      <td>0</td>\n",
              "      <td>49.0</td>\n",
              "      <td>0</td>\n",
              "      <td>0</td>\n",
              "      <td>1</td>\n",
              "      <td>2</td>\n",
              "      <td>1</td>\n",
              "      <td>171.23</td>\n",
              "      <td>34.400000</td>\n",
              "      <td>3</td>\n",
              "      <td>1</td>\n",
              "    </tr>\n",
              "    <tr>\n",
              "      <th>4</th>\n",
              "      <td>0</td>\n",
              "      <td>79.0</td>\n",
              "      <td>1</td>\n",
              "      <td>0</td>\n",
              "      <td>1</td>\n",
              "      <td>3</td>\n",
              "      <td>0</td>\n",
              "      <td>174.12</td>\n",
              "      <td>24.000000</td>\n",
              "      <td>2</td>\n",
              "      <td>1</td>\n",
              "    </tr>\n",
              "    <tr>\n",
              "      <th>...</th>\n",
              "      <td>...</td>\n",
              "      <td>...</td>\n",
              "      <td>...</td>\n",
              "      <td>...</td>\n",
              "      <td>...</td>\n",
              "      <td>...</td>\n",
              "      <td>...</td>\n",
              "      <td>...</td>\n",
              "      <td>...</td>\n",
              "      <td>...</td>\n",
              "      <td>...</td>\n",
              "    </tr>\n",
              "    <tr>\n",
              "      <th>5105</th>\n",
              "      <td>0</td>\n",
              "      <td>80.0</td>\n",
              "      <td>1</td>\n",
              "      <td>0</td>\n",
              "      <td>1</td>\n",
              "      <td>2</td>\n",
              "      <td>1</td>\n",
              "      <td>83.75</td>\n",
              "      <td>28.893237</td>\n",
              "      <td>2</td>\n",
              "      <td>0</td>\n",
              "    </tr>\n",
              "    <tr>\n",
              "      <th>5106</th>\n",
              "      <td>0</td>\n",
              "      <td>81.0</td>\n",
              "      <td>0</td>\n",
              "      <td>0</td>\n",
              "      <td>1</td>\n",
              "      <td>3</td>\n",
              "      <td>1</td>\n",
              "      <td>125.20</td>\n",
              "      <td>40.000000</td>\n",
              "      <td>2</td>\n",
              "      <td>0</td>\n",
              "    </tr>\n",
              "    <tr>\n",
              "      <th>5107</th>\n",
              "      <td>0</td>\n",
              "      <td>35.0</td>\n",
              "      <td>0</td>\n",
              "      <td>0</td>\n",
              "      <td>1</td>\n",
              "      <td>3</td>\n",
              "      <td>0</td>\n",
              "      <td>82.99</td>\n",
              "      <td>30.600000</td>\n",
              "      <td>2</td>\n",
              "      <td>0</td>\n",
              "    </tr>\n",
              "    <tr>\n",
              "      <th>5108</th>\n",
              "      <td>1</td>\n",
              "      <td>51.0</td>\n",
              "      <td>0</td>\n",
              "      <td>0</td>\n",
              "      <td>1</td>\n",
              "      <td>2</td>\n",
              "      <td>0</td>\n",
              "      <td>166.29</td>\n",
              "      <td>25.600000</td>\n",
              "      <td>1</td>\n",
              "      <td>0</td>\n",
              "    </tr>\n",
              "    <tr>\n",
              "      <th>5109</th>\n",
              "      <td>0</td>\n",
              "      <td>44.0</td>\n",
              "      <td>0</td>\n",
              "      <td>0</td>\n",
              "      <td>1</td>\n",
              "      <td>0</td>\n",
              "      <td>1</td>\n",
              "      <td>85.28</td>\n",
              "      <td>26.200000</td>\n",
              "      <td>0</td>\n",
              "      <td>0</td>\n",
              "    </tr>\n",
              "  </tbody>\n",
              "</table>\n",
              "<p>5110 rows × 11 columns</p>\n",
              "</div>"
            ],
            "text/plain": [
              "      gender   age  hypertension  heart_disease  ever_married  work_type  \\\n",
              "0          1  67.0             0              1             1          2   \n",
              "1          0  61.0             0              0             1          3   \n",
              "2          1  80.0             0              1             1          2   \n",
              "3          0  49.0             0              0             1          2   \n",
              "4          0  79.0             1              0             1          3   \n",
              "...      ...   ...           ...            ...           ...        ...   \n",
              "5105       0  80.0             1              0             1          2   \n",
              "5106       0  81.0             0              0             1          3   \n",
              "5107       0  35.0             0              0             1          3   \n",
              "5108       1  51.0             0              0             1          2   \n",
              "5109       0  44.0             0              0             1          0   \n",
              "\n",
              "      Residence_type  avg_glucose_level        bmi  smoking_status  stroke  \n",
              "0                  1             228.69  36.600000               1       1  \n",
              "1                  0             202.21  28.893237               2       1  \n",
              "2                  0             105.92  32.500000               2       1  \n",
              "3                  1             171.23  34.400000               3       1  \n",
              "4                  0             174.12  24.000000               2       1  \n",
              "...              ...                ...        ...             ...     ...  \n",
              "5105               1              83.75  28.893237               2       0  \n",
              "5106               1             125.20  40.000000               2       0  \n",
              "5107               0              82.99  30.600000               2       0  \n",
              "5108               0             166.29  25.600000               1       0  \n",
              "5109               1              85.28  26.200000               0       0  \n",
              "\n",
              "[5110 rows x 11 columns]"
            ]
          },
          "execution_count": 13,
          "metadata": {},
          "output_type": "execute_result"
        }
      ],
      "source": [
        "# Label Encoding\n",
        "label_encoder = preprocessing.LabelEncoder()\n",
        "\n",
        "data['gender'] = label_encoder.fit_transform(data['gender'])\n",
        "data['hypertension'] = label_encoder.fit_transform(data['hypertension'])\n",
        "data['heart_disease'] = label_encoder.fit_transform(data['heart_disease'])\n",
        "data['ever_married'] = label_encoder.fit_transform(data['ever_married'])\n",
        "data['work_type'] = label_encoder.fit_transform(data['work_type'])\n",
        "data['Residence_type'] = label_encoder.fit_transform(data['Residence_type'])\n",
        "data['smoking_status'] = label_encoder.fit_transform(data['smoking_status'])\n",
        "\n",
        "data"
      ]
    },
    {
      "cell_type": "code",
      "execution_count": 14,
      "id": "x2ST9cqjiN7Y",
      "metadata": {
        "id": "x2ST9cqjiN7Y"
      },
      "outputs": [],
      "source": [
        "# minVec = data.min().copy()\n",
        "# maxVec = data.max().copy()\n",
        "# data = (data - minVec)/(maxVec-minVec)\n",
        "# data.head() "
      ]
    },
    {
      "cell_type": "code",
      "execution_count": 15,
      "id": "7d03b538",
      "metadata": {
        "colab": {
          "base_uri": "https://localhost:8080/",
          "height": 811
        },
        "execution": {
          "iopub.execute_input": "2023-03-28T14:43:45.560638Z",
          "iopub.status.busy": "2023-03-28T14:43:45.559388Z",
          "iopub.status.idle": "2023-03-28T14:43:46.479410Z",
          "shell.execute_reply": "2023-03-28T14:43:46.477847Z"
        },
        "id": "7d03b538",
        "outputId": "201e38ce-e00c-4393-b46e-f1d5bfdc20a5",
        "papermill": {
          "duration": 0.950506,
          "end_time": "2023-03-28T14:43:46.484481",
          "exception": false,
          "start_time": "2023-03-28T14:43:45.533975",
          "status": "completed"
        },
        "tags": []
      },
      "outputs": [
        {
          "data": {
            "image/png": "[encoded data removed]",
            "text/plain": [
              "<Figure size 864x576 with 2 Axes>"
            ]
          },
          "metadata": {},
          "output_type": "display_data"
        }
      ],
      "source": [
        "# Apply Corelation Matrix After preprocessing\n",
        "\n",
        "plt.figure(figsize=(12,8))\n",
        "ax = sns.heatmap(data.corr(), annot=True)\n",
        "plt.show()"
      ]
    },
    {
      "cell_type": "code",
      "execution_count": 16,
      "id": "11ed2ef6",
      "metadata": {
        "execution": {
          "iopub.execute_input": "2023-03-28T14:43:46.546225Z",
          "iopub.status.busy": "2023-03-28T14:43:46.545783Z",
          "iopub.status.idle": "2023-03-28T14:43:46.554452Z",
          "shell.execute_reply": "2023-03-28T14:43:46.553085Z"
        },
        "id": "11ed2ef6",
        "papermill": {
          "duration": 0.040273,
          "end_time": "2023-03-28T14:43:46.557171",
          "exception": false,
          "start_time": "2023-03-28T14:43:46.516898",
          "status": "completed"
        },
        "tags": []
      },
      "outputs": [],
      "source": [
        "# Define a function that takes a dataset and a threshold value as inputs and returns the set of all names of correlated columns\n",
        "def correlation(dataset, threshold):\n",
        "    # Initialize an empty set to store the names of correlated columns\n",
        "    col_corr = set()\n",
        "    \n",
        "    # Calculate the correlation matrix for the dataset using the 'corr' method\n",
        "    corr_matrix = dataset.corr()\n",
        "    \n",
        "    # Iterate over the columns of the correlation matrix\n",
        "    for i in range(len(corr_matrix.columns)):\n",
        "        for j in range(i):\n",
        "            # Check if the absolute value of the correlation coefficient is greater than the threshold\n",
        "            if abs(corr_matrix.iloc[i, j]) > threshold:\n",
        "                # If it is, add the name of the column to the set of correlated columns\n",
        "                colname = corr_matrix.columns[i]\n",
        "                col_corr.add(colname)\n",
        "    \n",
        "    # Return the set of correlated column names\n",
        "    return col_corr\n"
      ]
    },
    {
      "cell_type": "code",
      "execution_count": 17,
      "id": "8720425c",
      "metadata": {
        "execution": {
          "iopub.execute_input": "2023-03-28T14:43:46.615444Z",
          "iopub.status.busy": "2023-03-28T14:43:46.614993Z",
          "iopub.status.idle": "2023-03-28T14:43:46.625501Z",
          "shell.execute_reply": "2023-03-28T14:43:46.624153Z"
        },
        "id": "8720425c",
        "papermill": {
          "duration": 0.043116,
          "end_time": "2023-03-28T14:43:46.628362",
          "exception": false,
          "start_time": "2023-03-28T14:43:46.585246",
          "status": "completed"
        },
        "tags": []
      },
      "outputs": [],
      "source": [
        "corr_features = correlation(data, 0.35)\n"
      ]
    },
    {
      "cell_type": "code",
      "execution_count": 18,
      "id": "Qp5D34Iw_rlE",
      "metadata": {
        "colab": {
          "base_uri": "https://localhost:8080/"
        },
        "id": "Qp5D34Iw_rlE",
        "outputId": "c6cd2e09-0807-4749-ccff-492d610e8b01"
      },
      "outputs": [
        {
          "data": {
            "text/plain": [
              "{'ever_married', 'work_type'}"
            ]
          },
          "execution_count": 18,
          "metadata": {},
          "output_type": "execute_result"
        }
      ],
      "source": [
        "corr_features"
      ]
    },
    {
      "cell_type": "code",
      "execution_count": 19,
      "id": "bc3bd509",
      "metadata": {
        "colab": {
          "base_uri": "https://localhost:8080/",
          "height": 424
        },
        "execution": {
          "iopub.execute_input": "2023-03-28T14:43:46.685815Z",
          "iopub.status.busy": "2023-03-28T14:43:46.685370Z",
          "iopub.status.idle": "2023-03-28T14:43:46.707197Z",
          "shell.execute_reply": "2023-03-28T14:43:46.705803Z"
        },
        "id": "bc3bd509",
        "outputId": "8ddf65ae-34cb-4d52-c8d5-e2ef5a12e60b",
        "papermill": {
          "duration": 0.053463,
          "end_time": "2023-03-28T14:43:46.710029",
          "exception": false,
          "start_time": "2023-03-28T14:43:46.656566",
          "status": "completed"
        },
        "tags": []
      },
      "outputs": [
        {
          "data": {
            "text/html": [
              "<div>\n",
              "<style scoped>\n",
              "    .dataframe tbody tr th:only-of-type {\n",
              "        vertical-align: middle;\n",
              "    }\n",
              "\n",
              "    .dataframe tbody tr th {\n",
              "        vertical-align: top;\n",
              "    }\n",
              "\n",
              "    .dataframe thead th {\n",
              "        text-align: right;\n",
              "    }\n",
              "</style>\n",
              "<table border=\"1\" class=\"dataframe\">\n",
              "  <thead>\n",
              "    <tr style=\"text-align: right;\">\n",
              "      <th></th>\n",
              "      <th>gender</th>\n",
              "      <th>age</th>\n",
              "      <th>hypertension</th>\n",
              "      <th>heart_disease</th>\n",
              "      <th>Residence_type</th>\n",
              "      <th>avg_glucose_level</th>\n",
              "      <th>bmi</th>\n",
              "      <th>smoking_status</th>\n",
              "      <th>stroke</th>\n",
              "    </tr>\n",
              "  </thead>\n",
              "  <tbody>\n",
              "    <tr>\n",
              "      <th>0</th>\n",
              "      <td>1</td>\n",
              "      <td>67.0</td>\n",
              "      <td>0</td>\n",
              "      <td>1</td>\n",
              "      <td>1</td>\n",
              "      <td>228.69</td>\n",
              "      <td>36.600000</td>\n",
              "      <td>1</td>\n",
              "      <td>1</td>\n",
              "    </tr>\n",
              "    <tr>\n",
              "      <th>1</th>\n",
              "      <td>0</td>\n",
              "      <td>61.0</td>\n",
              "      <td>0</td>\n",
              "      <td>0</td>\n",
              "      <td>0</td>\n",
              "      <td>202.21</td>\n",
              "      <td>28.893237</td>\n",
              "      <td>2</td>\n",
              "      <td>1</td>\n",
              "    </tr>\n",
              "    <tr>\n",
              "      <th>2</th>\n",
              "      <td>1</td>\n",
              "      <td>80.0</td>\n",
              "      <td>0</td>\n",
              "      <td>1</td>\n",
              "      <td>0</td>\n",
              "      <td>105.92</td>\n",
              "      <td>32.500000</td>\n",
              "      <td>2</td>\n",
              "      <td>1</td>\n",
              "    </tr>\n",
              "    <tr>\n",
              "      <th>3</th>\n",
              "      <td>0</td>\n",
              "      <td>49.0</td>\n",
              "      <td>0</td>\n",
              "      <td>0</td>\n",
              "      <td>1</td>\n",
              "      <td>171.23</td>\n",
              "      <td>34.400000</td>\n",
              "      <td>3</td>\n",
              "      <td>1</td>\n",
              "    </tr>\n",
              "    <tr>\n",
              "      <th>4</th>\n",
              "      <td>0</td>\n",
              "      <td>79.0</td>\n",
              "      <td>1</td>\n",
              "      <td>0</td>\n",
              "      <td>0</td>\n",
              "      <td>174.12</td>\n",
              "      <td>24.000000</td>\n",
              "      <td>2</td>\n",
              "      <td>1</td>\n",
              "    </tr>\n",
              "    <tr>\n",
              "      <th>...</th>\n",
              "      <td>...</td>\n",
              "      <td>...</td>\n",
              "      <td>...</td>\n",
              "      <td>...</td>\n",
              "      <td>...</td>\n",
              "      <td>...</td>\n",
              "      <td>...</td>\n",
              "      <td>...</td>\n",
              "      <td>...</td>\n",
              "    </tr>\n",
              "    <tr>\n",
              "      <th>5105</th>\n",
              "      <td>0</td>\n",
              "      <td>80.0</td>\n",
              "      <td>1</td>\n",
              "      <td>0</td>\n",
              "      <td>1</td>\n",
              "      <td>83.75</td>\n",
              "      <td>28.893237</td>\n",
              "      <td>2</td>\n",
              "      <td>0</td>\n",
              "    </tr>\n",
              "    <tr>\n",
              "      <th>5106</th>\n",
              "      <td>0</td>\n",
              "      <td>81.0</td>\n",
              "      <td>0</td>\n",
              "      <td>0</td>\n",
              "      <td>1</td>\n",
              "      <td>125.20</td>\n",
              "      <td>40.000000</td>\n",
              "      <td>2</td>\n",
              "      <td>0</td>\n",
              "    </tr>\n",
              "    <tr>\n",
              "      <th>5107</th>\n",
              "      <td>0</td>\n",
              "      <td>35.0</td>\n",
              "      <td>0</td>\n",
              "      <td>0</td>\n",
              "      <td>0</td>\n",
              "      <td>82.99</td>\n",
              "      <td>30.600000</td>\n",
              "      <td>2</td>\n",
              "      <td>0</td>\n",
              "    </tr>\n",
              "    <tr>\n",
              "      <th>5108</th>\n",
              "      <td>1</td>\n",
              "      <td>51.0</td>\n",
              "      <td>0</td>\n",
              "      <td>0</td>\n",
              "      <td>0</td>\n",
              "      <td>166.29</td>\n",
              "      <td>25.600000</td>\n",
              "      <td>1</td>\n",
              "      <td>0</td>\n",
              "    </tr>\n",
              "    <tr>\n",
              "      <th>5109</th>\n",
              "      <td>0</td>\n",
              "      <td>44.0</td>\n",
              "      <td>0</td>\n",
              "      <td>0</td>\n",
              "      <td>1</td>\n",
              "      <td>85.28</td>\n",
              "      <td>26.200000</td>\n",
              "      <td>0</td>\n",
              "      <td>0</td>\n",
              "    </tr>\n",
              "  </tbody>\n",
              "</table>\n",
              "<p>5110 rows × 9 columns</p>\n",
              "</div>"
            ],
            "text/plain": [
              "      gender   age  hypertension  heart_disease  Residence_type  \\\n",
              "0          1  67.0             0              1               1   \n",
              "1          0  61.0             0              0               0   \n",
              "2          1  80.0             0              1               0   \n",
              "3          0  49.0             0              0               1   \n",
              "4          0  79.0             1              0               0   \n",
              "...      ...   ...           ...            ...             ...   \n",
              "5105       0  80.0             1              0               1   \n",
              "5106       0  81.0             0              0               1   \n",
              "5107       0  35.0             0              0               0   \n",
              "5108       1  51.0             0              0               0   \n",
              "5109       0  44.0             0              0               1   \n",
              "\n",
              "      avg_glucose_level        bmi  smoking_status  stroke  \n",
              "0                228.69  36.600000               1       1  \n",
              "1                202.21  28.893237               2       1  \n",
              "2                105.92  32.500000               2       1  \n",
              "3                171.23  34.400000               3       1  \n",
              "4                174.12  24.000000               2       1  \n",
              "...                 ...        ...             ...     ...  \n",
              "5105              83.75  28.893237               2       0  \n",
              "5106             125.20  40.000000               2       0  \n",
              "5107              82.99  30.600000               2       0  \n",
              "5108             166.29  25.600000               1       0  \n",
              "5109              85.28  26.200000               0       0  \n",
              "\n",
              "[5110 rows x 9 columns]"
            ]
          },
          "execution_count": 19,
          "metadata": {},
          "output_type": "execute_result"
        }
      ],
      "source": [
        "X_corr = data.drop(corr_features,axis=1)\n",
        "X_corr"
      ]
    },
    {
      "cell_type": "markdown",
      "id": "212c7555",
      "metadata": {
        "id": "212c7555",
        "papermill": {
          "duration": 0.026964,
          "end_time": "2023-03-28T14:43:46.765362",
          "exception": false,
          "start_time": "2023-03-28T14:43:46.738398",
          "status": "completed"
        },
        "tags": []
      },
      "source": [
        "# ML models"
      ]
    },
    {
      "cell_type": "markdown",
      "id": "67e2d24e",
      "metadata": {
        "id": "67e2d24e",
        "papermill": {
          "duration": 0.028278,
          "end_time": "2023-03-28T14:43:46.823294",
          "exception": false,
          "start_time": "2023-03-28T14:43:46.795016",
          "status": "completed"
        },
        "tags": []
      },
      "source": [
        "**Splitting Data**"
      ]
    },
    {
      "cell_type": "code",
      "execution_count": 20,
      "id": "8a25b46f",
      "metadata": {
        "execution": {
          "iopub.execute_input": "2023-03-28T14:43:46.880935Z",
          "iopub.status.busy": "2023-03-28T14:43:46.880499Z",
          "iopub.status.idle": "2023-03-28T14:43:46.896350Z",
          "shell.execute_reply": "2023-03-28T14:43:46.894851Z"
        },
        "id": "8a25b46f",
        "papermill": {
          "duration": 0.047737,
          "end_time": "2023-03-28T14:43:46.899364",
          "exception": false,
          "start_time": "2023-03-28T14:43:46.851627",
          "status": "completed"
        },
        "tags": []
      },
      "outputs": [],
      "source": [
        "# drop the 'Stroke' column from the DataFrame to create the feature matrix\n",
        "X = X_corr.drop('stroke', axis=1)\n",
        "# create the target vector\n",
        "y = X_corr['stroke'] \n",
        "# split the data into training and testing subsets\n",
        "X_train, X_test, y_train, y_test = train_test_split(X, y, test_size=0.2, stratify=y, random_state=42)"
      ]
    },
    {
      "cell_type": "code",
      "execution_count": 21,
      "id": "ae1b834f",
      "metadata": {
        "colab": {
          "base_uri": "https://localhost:8080/"
        },
        "execution": {
          "iopub.execute_input": "2023-03-28T14:43:46.957376Z",
          "iopub.status.busy": "2023-03-28T14:43:46.956946Z",
          "iopub.status.idle": "2023-03-28T14:43:46.963666Z",
          "shell.execute_reply": "2023-03-28T14:43:46.962420Z"
        },
        "id": "ae1b834f",
        "outputId": "8788757c-86bb-44af-b35a-b2c126a726ed",
        "papermill": {
          "duration": 0.038825,
          "end_time": "2023-03-28T14:43:46.966279",
          "exception": false,
          "start_time": "2023-03-28T14:43:46.927454",
          "status": "completed"
        },
        "tags": []
      },
      "outputs": [
        {
          "name": "stdout",
          "output_type": "stream",
          "text": [
            "x_train:  (4088, 8)\n",
            "x_test:  (1022, 8)\n",
            "y_train:  (4088,)\n",
            "y_test:  (1022,)\n"
          ]
        }
      ],
      "source": [
        "# check shape\n",
        "print('x_train: ', X_train.shape)\n",
        "print('x_test: ', X_test.shape)\n",
        "print('y_train: ', y_train.shape)\n",
        "print('y_test: ', y_test.shape)"
      ]
    },
    {
      "cell_type": "code",
      "execution_count": 22,
      "id": "hUxdxhMyebog",
      "metadata": {
        "colab": {
          "base_uri": "https://localhost:8080/",
          "height": 424
        },
        "id": "hUxdxhMyebog",
        "outputId": "f8890b35-b8b0-465a-f9b7-dc7bae2ce703"
      },
      "outputs": [
        {
          "data": {
            "text/html": [
              "<div>\n",
              "<style scoped>\n",
              "    .dataframe tbody tr th:only-of-type {\n",
              "        vertical-align: middle;\n",
              "    }\n",
              "\n",
              "    .dataframe tbody tr th {\n",
              "        vertical-align: top;\n",
              "    }\n",
              "\n",
              "    .dataframe thead th {\n",
              "        text-align: right;\n",
              "    }\n",
              "</style>\n",
              "<table border=\"1\" class=\"dataframe\">\n",
              "  <thead>\n",
              "    <tr style=\"text-align: right;\">\n",
              "      <th></th>\n",
              "      <th>gender</th>\n",
              "      <th>age</th>\n",
              "      <th>hypertension</th>\n",
              "      <th>heart_disease</th>\n",
              "      <th>Residence_type</th>\n",
              "      <th>avg_glucose_level</th>\n",
              "      <th>bmi</th>\n",
              "      <th>smoking_status</th>\n",
              "    </tr>\n",
              "  </thead>\n",
              "  <tbody>\n",
              "    <tr>\n",
              "      <th>845</th>\n",
              "      <td>0</td>\n",
              "      <td>48.0</td>\n",
              "      <td>0</td>\n",
              "      <td>0</td>\n",
              "      <td>1</td>\n",
              "      <td>69.21</td>\n",
              "      <td>33.1</td>\n",
              "      <td>2</td>\n",
              "    </tr>\n",
              "    <tr>\n",
              "      <th>3744</th>\n",
              "      <td>1</td>\n",
              "      <td>15.0</td>\n",
              "      <td>0</td>\n",
              "      <td>0</td>\n",
              "      <td>0</td>\n",
              "      <td>122.25</td>\n",
              "      <td>21.0</td>\n",
              "      <td>2</td>\n",
              "    </tr>\n",
              "    <tr>\n",
              "      <th>4183</th>\n",
              "      <td>0</td>\n",
              "      <td>67.0</td>\n",
              "      <td>0</td>\n",
              "      <td>0</td>\n",
              "      <td>0</td>\n",
              "      <td>110.42</td>\n",
              "      <td>24.9</td>\n",
              "      <td>2</td>\n",
              "    </tr>\n",
              "    <tr>\n",
              "      <th>3409</th>\n",
              "      <td>1</td>\n",
              "      <td>44.0</td>\n",
              "      <td>0</td>\n",
              "      <td>0</td>\n",
              "      <td>1</td>\n",
              "      <td>65.41</td>\n",
              "      <td>24.8</td>\n",
              "      <td>3</td>\n",
              "    </tr>\n",
              "    <tr>\n",
              "      <th>284</th>\n",
              "      <td>1</td>\n",
              "      <td>14.0</td>\n",
              "      <td>0</td>\n",
              "      <td>0</td>\n",
              "      <td>1</td>\n",
              "      <td>82.34</td>\n",
              "      <td>31.6</td>\n",
              "      <td>0</td>\n",
              "    </tr>\n",
              "    <tr>\n",
              "      <th>...</th>\n",
              "      <td>...</td>\n",
              "      <td>...</td>\n",
              "      <td>...</td>\n",
              "      <td>...</td>\n",
              "      <td>...</td>\n",
              "      <td>...</td>\n",
              "      <td>...</td>\n",
              "      <td>...</td>\n",
              "    </tr>\n",
              "    <tr>\n",
              "      <th>1434</th>\n",
              "      <td>0</td>\n",
              "      <td>45.0</td>\n",
              "      <td>0</td>\n",
              "      <td>0</td>\n",
              "      <td>1</td>\n",
              "      <td>92.86</td>\n",
              "      <td>35.1</td>\n",
              "      <td>1</td>\n",
              "    </tr>\n",
              "    <tr>\n",
              "      <th>461</th>\n",
              "      <td>0</td>\n",
              "      <td>16.0</td>\n",
              "      <td>0</td>\n",
              "      <td>0</td>\n",
              "      <td>0</td>\n",
              "      <td>113.47</td>\n",
              "      <td>19.5</td>\n",
              "      <td>0</td>\n",
              "    </tr>\n",
              "    <tr>\n",
              "      <th>1052</th>\n",
              "      <td>0</td>\n",
              "      <td>61.0</td>\n",
              "      <td>0</td>\n",
              "      <td>0</td>\n",
              "      <td>0</td>\n",
              "      <td>78.65</td>\n",
              "      <td>36.2</td>\n",
              "      <td>1</td>\n",
              "    </tr>\n",
              "    <tr>\n",
              "      <th>1757</th>\n",
              "      <td>1</td>\n",
              "      <td>31.0</td>\n",
              "      <td>0</td>\n",
              "      <td>0</td>\n",
              "      <td>1</td>\n",
              "      <td>74.05</td>\n",
              "      <td>26.0</td>\n",
              "      <td>0</td>\n",
              "    </tr>\n",
              "    <tr>\n",
              "      <th>5052</th>\n",
              "      <td>0</td>\n",
              "      <td>6.0</td>\n",
              "      <td>0</td>\n",
              "      <td>0</td>\n",
              "      <td>1</td>\n",
              "      <td>91.05</td>\n",
              "      <td>22.1</td>\n",
              "      <td>0</td>\n",
              "    </tr>\n",
              "  </tbody>\n",
              "</table>\n",
              "<p>4088 rows × 8 columns</p>\n",
              "</div>"
            ],
            "text/plain": [
              "      gender   age  hypertension  heart_disease  Residence_type  \\\n",
              "845        0  48.0             0              0               1   \n",
              "3744       1  15.0             0              0               0   \n",
              "4183       0  67.0             0              0               0   \n",
              "3409       1  44.0             0              0               1   \n",
              "284        1  14.0             0              0               1   \n",
              "...      ...   ...           ...            ...             ...   \n",
              "1434       0  45.0             0              0               1   \n",
              "461        0  16.0             0              0               0   \n",
              "1052       0  61.0             0              0               0   \n",
              "1757       1  31.0             0              0               1   \n",
              "5052       0   6.0             0              0               1   \n",
              "\n",
              "      avg_glucose_level   bmi  smoking_status  \n",
              "845               69.21  33.1               2  \n",
              "3744             122.25  21.0               2  \n",
              "4183             110.42  24.9               2  \n",
              "3409              65.41  24.8               3  \n",
              "284               82.34  31.6               0  \n",
              "...                 ...   ...             ...  \n",
              "1434              92.86  35.1               1  \n",
              "461              113.47  19.5               0  \n",
              "1052              78.65  36.2               1  \n",
              "1757              74.05  26.0               0  \n",
              "5052              91.05  22.1               0  \n",
              "\n",
              "[4088 rows x 8 columns]"
            ]
          },
          "execution_count": 22,
          "metadata": {},
          "output_type": "execute_result"
        }
      ],
      "source": [
        "X_train"
      ]
    },
    {
      "cell_type": "markdown",
      "id": "46c8fd4d",
      "metadata": {
        "id": "46c8fd4d",
        "papermill": {
          "duration": 0.0279,
          "end_time": "2023-03-28T14:43:47.959051",
          "exception": false,
          "start_time": "2023-03-28T14:43:47.931151",
          "status": "completed"
        },
        "tags": []
      },
      "source": [
        "## Logistic Regression"
      ]
    },
    {
      "cell_type": "code",
      "execution_count": 23,
      "id": "61b1300b",
      "metadata": {
        "execution": {
          "iopub.execute_input": "2023-03-28T14:43:48.019388Z",
          "iopub.status.busy": "2023-03-28T14:43:48.018368Z",
          "iopub.status.idle": "2023-03-28T14:43:48.130138Z",
          "shell.execute_reply": "2023-03-28T14:43:48.128603Z"
        },
        "id": "61b1300b",
        "papermill": {
          "duration": 0.146562,
          "end_time": "2023-03-28T14:43:48.133892",
          "exception": false,
          "start_time": "2023-03-28T14:43:47.987330",
          "status": "completed"
        },
        "tags": []
      },
      "outputs": [],
      "source": [
        "# Apply Logistic Regression Algorithm\n",
        "import pickle\n",
        "from sklearn.linear_model import LogisticRegression\n",
        "\n",
        "LR = LogisticRegression()\n",
        "LR.fit(X_train,y_train)\n",
        "filename = 'stroke_model_LR.sav'\n",
        "pickle.dump(LR, open(filename, 'wb'))"
      ]
    },
    {
      "cell_type": "code",
      "execution_count": 24,
      "id": "vxluhA-o9P4y",
      "metadata": {
        "colab": {
          "base_uri": "https://localhost:8080/",
          "height": 497
        },
        "id": "vxluhA-o9P4y",
        "outputId": "6856bd15-6a6f-4547-8377-0036814b520d"
      },
      "outputs": [
        {
          "data": {
            "text/plain": [
              "Text(0.5, 12.5, 'Predicted label')"
            ]
          },
          "execution_count": 24,
          "metadata": {},
          "output_type": "execute_result"
        },
        {
          "data": {
            "image/png": "[encoded data removed]",
            "text/plain": [
              "<Figure size 432x288 with 1 Axes>"
            ]
          },
          "metadata": {},
          "output_type": "display_data"
        }
      ],
      "source": [
        "y_pred = LR.predict(X_test)\n",
        "cfm = confusion_matrix(y_test, y_pred)\n",
        "sns.heatmap(cfm, annot = True,  linewidths=.5, cbar =None)\n",
        "plt.title('Logistic Regression')\n",
        "plt.ylabel('True label')\n",
        "plt.xlabel('Predicted label')"
      ]
    }
  ],
  "metadata": {
    "colab": {
      "provenance": []
    },
    "gpuClass": "standard",
    "kernelspec": {
      "display_name": "Python 3",
      "language": "python",
      "name": "python3"
    },
    "language_info": {
      "codemirror_mode": {
        "name": "ipython",
        "version": 3
      },
      "file_extension": ".py",
      "mimetype": "text/x-python",
      "name": "python",
      "nbconvert_exporter": "python",
      "pygments_lexer": "ipython3",
      "version": "3.10.5"
    },
    "papermill": {
      "default_parameters": {},
      "duration": 27.026177,
      "end_time": "2023-03-28T14:43:50.159512",
      "environment_variables": {},
      "exception": null,
      "input_path": "__notebook__.ipynb",
      "output_path": "__notebook__.ipynb",
      "parameters": {},
      "start_time": "2023-03-28T14:43:23.133335",
      "version": "2.4.0"
    }
  },
  "nbformat": 4,
  "nbformat_minor": 5
}
